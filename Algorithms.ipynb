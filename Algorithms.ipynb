{
 "cells": [
  {
   "cell_type": "code",
   "execution_count": 3,
   "id": "661d097c",
   "metadata": {},
   "outputs": [
    {
     "name": "stdout",
     "output_type": "stream",
     "text": [
      "False\n",
      "True\n"
     ]
    }
   ],
   "source": [
    "#Question 1\n",
    "def binary_search(item_list,item):\n",
    "    first = 0\n",
    "    last = len(item_list)-1\n",
    "    found = False\n",
    "    while(first<=last and not found):\n",
    "        mid = (first + last)//2\n",
    "        if item_list[mid] == item :\n",
    "            found = True\n",
    "        else:\n",
    "            if item < item_list[mid]:\n",
    "                last = mid - 1\n",
    "            else:\n",
    "                first = mid + 1\n",
    "    return found\n",
    "print(binary_search([1,2,3,5,8], 6))\n",
    "print(binary_search([1,2,3,5,8], 5))"
   ]
  },
  {
   "cell_type": "code",
   "execution_count": 4,
   "id": "bfaf25f6",
   "metadata": {},
   "outputs": [
    {
     "name": "stdout",
     "output_type": "stream",
     "text": [
      "81\n"
     ]
    }
   ],
   "source": [
    "#Question 2\n",
    "def power(a,b):\n",
    "    if b==0:\n",
    "        return 1\n",
    "    elif a==0:\n",
    "        return 0\n",
    "    elif b==1:\n",
    "        return a\n",
    "    else:\n",
    "        return a*power(a,b-1)\n",
    "print(power(3,4))"
   ]
  },
  {
   "cell_type": "code",
   "execution_count": 5,
   "id": "6174cb55",
   "metadata": {},
   "outputs": [
    {
     "name": "stdout",
     "output_type": "stream",
     "text": [
      "[13, 22, 29, 37, 46, 49, 52, 56, 71]\n"
     ]
    }
   ],
   "source": [
    "#Question 3\n",
    "def bubbleSort(nlist):\n",
    "    for passnum in range(len(nlist)-1,0,-1):\n",
    "        for i in range(passnum):\n",
    "            if nlist[i]>nlist[i+1]:\n",
    "                temp = nlist[i]\n",
    "                nlist[i] = nlist[i+1]\n",
    "                nlist[i+1] = temp\n",
    "nlist = [29,13,22,37,52,49,46,71,56]\n",
    "bubbleSort(nlist)\n",
    "print(nlist)"
   ]
  },
  {
   "cell_type": "code",
   "execution_count": 18,
   "id": "7b0eb7ee",
   "metadata": {},
   "outputs": [
    {
     "name": "stdout",
     "output_type": "stream",
     "text": [
      "[13, 22, 29, 37, 46, 49, 52, 56, 71]\n"
     ]
    }
   ],
   "source": [
    "#Question 4\n",
    "def mergeSort(nlist):\n",
    "    if len(nlist)>1:\n",
    "        mid = len(nlist)//2\n",
    "        left = nlist[:mid]\n",
    "        right = nlist[mid:]\n",
    "        mergeSort(left)\n",
    "        mergeSort(right)\n",
    "        i=j=k=0       \n",
    "        while i < len(left) and j < len(right):\n",
    "            if left[i] < right[j]:\n",
    "                nlist[k]=left[i]\n",
    "                i=i+1\n",
    "            else:\n",
    "                nlist[k]=right[j]\n",
    "                j=j+1\n",
    "            k=k+1\n",
    "        while i < len(left):\n",
    "            nlist[k]=left[i]\n",
    "            i=i+1\n",
    "            k=k+1\n",
    "        while j < len(right):\n",
    "            nlist[k]=right[j]\n",
    "            j=j+1\n",
    "            k=k+1\n",
    "nlist = [29,13,22,37,52,49,46,71,56]\n",
    "mergeSort(nlist)\n",
    "print(nlist)"
   ]
  },
  {
   "cell_type": "code",
   "execution_count": 19,
   "id": "7a5d7ce0",
   "metadata": {},
   "outputs": [
    {
     "name": "stdout",
     "output_type": "stream",
     "text": [
      "[13, 22, 29, 37, 46, 49, 52, 56, 71]\n"
     ]
    }
   ],
   "source": [
    "#Question 5\n",
    "def quickSort(data_list):\n",
    "    quickSortHlp(data_list,0,len(data_list)-1)\n",
    "def quickSortHlp(data_list,first,last):\n",
    "    if first < last:\n",
    "        splitpoint = partition(data_list,first,last)\n",
    "        quickSortHlp(data_list,first,splitpoint-1)\n",
    "        quickSortHlp(data_list,splitpoint+1,last)\n",
    "def partition(data_list,first,last):\n",
    "    pivotvalue = data_list[first]\n",
    "    leftmark = first+1\n",
    "    rightmark = last\n",
    "    done = False\n",
    "    while not done:\n",
    "        while leftmark <= rightmark and data_list[leftmark] <= pivotvalue:\n",
    "            leftmark = leftmark + 1\n",
    "        while data_list[rightmark] >= pivotvalue and rightmark >= leftmark:\n",
    "            rightmark = rightmark -1\n",
    "        if rightmark < leftmark:\n",
    "            done = True\n",
    "        else:\n",
    "            temp = data_list[leftmark]\n",
    "            data_list[leftmark] = data_list[rightmark]\n",
    "            data_list[rightmark] = temp\n",
    "    temp = data_list[first]\n",
    "    data_list[first] = data_list[rightmark]\n",
    "    data_list[rightmark] = temp\n",
    "    return rightmark\n",
    "data_list = [29,13,22,37,52,49,46,71,56]\n",
    "quickSort(data_list)\n",
    "print(data_list)"
   ]
  },
  {
   "cell_type": "code",
   "execution_count": null,
   "id": "afbd65c9",
   "metadata": {},
   "outputs": [],
   "source": []
  }
 ],
 "metadata": {
  "kernelspec": {
   "display_name": "Python 3 (ipykernel)",
   "language": "python",
   "name": "python3"
  },
  "language_info": {
   "codemirror_mode": {
    "name": "ipython",
    "version": 3
   },
   "file_extension": ".py",
   "mimetype": "text/x-python",
   "name": "python",
   "nbconvert_exporter": "python",
   "pygments_lexer": "ipython3",
   "version": "3.9.12"
  }
 },
 "nbformat": 4,
 "nbformat_minor": 5
}
